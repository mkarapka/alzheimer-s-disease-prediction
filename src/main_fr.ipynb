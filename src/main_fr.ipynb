{
 "cells": [
  {
   "cell_type": "code",
   "execution_count": 188,
   "metadata": {},
   "outputs": [],
   "source": [
    "import numpy as np\n",
    "import pandas as pd\n",
    "import matplotlib.pyplot as plt\n",
    "import seaborn as sns\n",
    "import kagglehub\n",
    "import os\n",
    "from sklearn.model_selection import train_test_split, GridSearchCV\n",
    "from sklearn.metrics import classification_report, roc_auc_score\n",
    "from sklearn.preprocessing import StandardScaler\n",
    "from interpret.glassbox import ExplainableBoostingClassifier\n",
    "from interpret import show\n",
    "from sklearn.model_selection import train_test_split\n",
    "from sklearn.preprocessing import StandardScaler\n",
    "from sklearn.metrics import classification_report, roc_auc_score\n",
    "import pandas as pd\n",
    "from imblearn.over_sampling import SMOTENC\n",
    "from sklearn.compose import ColumnTransformer\n",
    "from sklearn.preprocessing import OneHotEncoder\n",
    "from collections import Counter\n"
   ]
  },
  {
   "cell_type": "code",
   "execution_count": 160,
   "metadata": {},
   "outputs": [
    {
     "name": "stdout",
     "output_type": "stream",
     "text": [
      "Content of ['alzheimers_disease_data.csv']\n"
     ]
    }
   ],
   "source": [
    "# Download latest version\n",
    "path = kagglehub.dataset_download(\"rabieelkharoua/alzheimers-disease-dataset\")\n",
    "files = os.listdir(path)\n",
    "print(\"Content of\", files)\n",
    "\n",
    "csv_file = files[0]\n",
    "csv_path = os.path.join(path, csv_file)\n",
    "\n",
    "# Load DataFrame\n",
    "df = pd.read_csv(csv_path) "
   ]
  },
  {
   "cell_type": "markdown",
   "metadata": {},
   "source": [
    "## Data preprocessing"
   ]
  },
  {
   "cell_type": "code",
   "execution_count": 161,
   "metadata": {},
   "outputs": [],
   "source": [
    "# Remove unnecessary columns\n",
    "df = df.drop(columns=[\"PatientID\", \"DoctorInCharge\"], errors=\"ignore\")\n",
    "\n",
    "# Split data into features (X) and target variable (Y)\n",
    "X = df.drop(columns=[\"Diagnosis\"])\n",
    "Y = df[\"Diagnosis\"]"
   ]
  },
  {
   "cell_type": "code",
   "execution_count": 146,
   "metadata": {},
   "outputs": [],
   "source": [
    "# Sample a subset of the data for analysis\n",
    "# df = df.sample(frac=1.0, random_state=42)\n"
   ]
  },
  {
   "cell_type": "code",
   "execution_count": null,
   "metadata": {},
   "outputs": [],
   "source": [
    "# Podział danych na cechy (X) i zmienną celu (Y)\n",
    "X = df.drop(columns=[\"Diagnosis\"])\n",
    "Y = df[\"Diagnosis\"]\n",
    "\n",
    "def change_labels(X):\n",
    "    custom_labels = {\n",
    "        'Gender': ['Male', 'Female'],\n",
    "        'Ethnicity': ['Caucasian', 'African American', 'Asian', 'Other'],\n",
    "        'EducationLevel': ['None', 'High School', \"Bachelor's\", 'Higher'],\n",
    "        'Smoking': ['No', 'Yes'],\n",
    "        'FamilyHistoryAlzheimers': ['No', 'Yes'],\n",
    "        'CardiovascularDisease': ['No', 'Yes'],\n",
    "        'Diabetes': ['No', 'Yes'],\n",
    "        'Depression': ['No', 'Yes'],\n",
    "        'HeadInjury': ['No', 'Yes'],\n",
    "        'Hypertension': ['No', 'Yes'],\n",
    "        'MemoryComplaints': ['No', 'Yes'],\n",
    "        'BehavioralProblems': ['No', 'Yes'],\n",
    "        'Confusion': ['No', 'Yes'],\n",
    "        'Disorientation': ['No', 'Yes'],\n",
    "        'PersonalityChanges': ['No', 'Yes'],\n",
    "        'DifficultyCompletingTasks': ['No', 'Yes'],\n",
    "        'Forgetfulness': ['No', 'Yes']\n",
    "    }\n",
    "\n",
    "    for column, labels in custom_labels.items():\n",
    "            if column in X.columns:\n",
    "                # Create a mapping dictionary from numeric values to custom labels\n",
    "                label_mapping = {i: label for i, label in enumerate(labels)}\n",
    "                # Replace values in the column using the mapping\n",
    "                X[column] = X[column].replace(label_mapping)\n",
    "    return X\n",
    "\n",
    "X = change_labels(X)\n",
    "# Podział na zbiory treningowe i testowe\n",
    "X_train, X_test, Y_train, Y_test = train_test_split(\n",
    "    X, Y, test_size=0.2, random_state=42, stratify=Y\n",
    ")"
   ]
  },
  {
   "cell_type": "code",
   "execution_count": 189,
   "metadata": {},
   "outputs": [
    {
     "name": "stdout",
     "output_type": "stream",
     "text": [
      "Proporcje klas przed balansowaniem:\n",
      "Counter({0: 1111, 1: 608})\n"
     ]
    },
    {
     "ename": "ValueError",
     "evalue": "SMOTE-NC is not designed to work only with numerical features. It requires some categorical features.",
     "output_type": "error",
     "traceback": [
      "\u001b[0;31m---------------------------------------------------------------------------\u001b[0m",
      "\u001b[0;31mValueError\u001b[0m                                Traceback (most recent call last)",
      "Cell \u001b[0;32mIn[189], line 10\u001b[0m\n\u001b[1;32m      7\u001b[0m smote_nc \u001b[38;5;241m=\u001b[39m SMOTENC(categorical_features\u001b[38;5;241m=\u001b[39mcategorical_features, random_state\u001b[38;5;241m=\u001b[39m\u001b[38;5;241m42\u001b[39m)\n\u001b[1;32m      9\u001b[0m \u001b[38;5;66;03m# Balansowanie\u001b[39;00m\n\u001b[0;32m---> 10\u001b[0m X_balanced, Y_balanced \u001b[38;5;241m=\u001b[39m \u001b[43msmote_nc\u001b[49m\u001b[38;5;241;43m.\u001b[39;49m\u001b[43mfit_resample\u001b[49m\u001b[43m(\u001b[49m\u001b[43mX_train\u001b[49m\u001b[43m,\u001b[49m\u001b[43m \u001b[49m\u001b[43mY_train\u001b[49m\u001b[43m)\u001b[49m\n\u001b[1;32m     12\u001b[0m \u001b[38;5;66;03m# Wyświetlenie proporcji klas po balansowaniu\u001b[39;00m\n\u001b[1;32m     13\u001b[0m \u001b[38;5;28mprint\u001b[39m(\u001b[38;5;124m\"\u001b[39m\u001b[38;5;124mProporcje klas po balansowaniu:\u001b[39m\u001b[38;5;124m\"\u001b[39m)\n",
      "File \u001b[0;32m~/Library/Caches/pypoetry/virtualenvs/alzheimer-s-disease-prediction-oDGSe6K4-py3.13/lib/python3.13/site-packages/imblearn/base.py:202\u001b[0m, in \u001b[0;36mBaseSampler.fit_resample\u001b[0;34m(self, X, y, **params)\u001b[0m\n\u001b[1;32m    181\u001b[0m \u001b[38;5;28;01mdef\u001b[39;00m\u001b[38;5;250m \u001b[39m\u001b[38;5;21mfit_resample\u001b[39m(\u001b[38;5;28mself\u001b[39m, X, y, \u001b[38;5;241m*\u001b[39m\u001b[38;5;241m*\u001b[39mparams):\n\u001b[1;32m    182\u001b[0m \u001b[38;5;250m    \u001b[39m\u001b[38;5;124;03m\"\"\"Resample the dataset.\u001b[39;00m\n\u001b[1;32m    183\u001b[0m \n\u001b[1;32m    184\u001b[0m \u001b[38;5;124;03m    Parameters\u001b[39;00m\n\u001b[0;32m   (...)\u001b[0m\n\u001b[1;32m    200\u001b[0m \u001b[38;5;124;03m        The corresponding label of `X_resampled`.\u001b[39;00m\n\u001b[1;32m    201\u001b[0m \u001b[38;5;124;03m    \"\"\"\u001b[39;00m\n\u001b[0;32m--> 202\u001b[0m     \u001b[38;5;28;01mreturn\u001b[39;00m \u001b[38;5;28;43msuper\u001b[39;49m\u001b[43m(\u001b[49m\u001b[43m)\u001b[49m\u001b[38;5;241;43m.\u001b[39;49m\u001b[43mfit_resample\u001b[49m\u001b[43m(\u001b[49m\u001b[43mX\u001b[49m\u001b[43m,\u001b[49m\u001b[43m \u001b[49m\u001b[43my\u001b[49m\u001b[43m,\u001b[49m\u001b[43m \u001b[49m\u001b[38;5;241;43m*\u001b[39;49m\u001b[38;5;241;43m*\u001b[39;49m\u001b[43mparams\u001b[49m\u001b[43m)\u001b[49m\n",
      "File \u001b[0;32m~/Library/Caches/pypoetry/virtualenvs/alzheimer-s-disease-prediction-oDGSe6K4-py3.13/lib/python3.13/site-packages/sklearn/base.py:1389\u001b[0m, in \u001b[0;36m_fit_context.<locals>.decorator.<locals>.wrapper\u001b[0;34m(estimator, *args, **kwargs)\u001b[0m\n\u001b[1;32m   1382\u001b[0m     estimator\u001b[38;5;241m.\u001b[39m_validate_params()\n\u001b[1;32m   1384\u001b[0m \u001b[38;5;28;01mwith\u001b[39;00m config_context(\n\u001b[1;32m   1385\u001b[0m     skip_parameter_validation\u001b[38;5;241m=\u001b[39m(\n\u001b[1;32m   1386\u001b[0m         prefer_skip_nested_validation \u001b[38;5;129;01mor\u001b[39;00m global_skip_validation\n\u001b[1;32m   1387\u001b[0m     )\n\u001b[1;32m   1388\u001b[0m ):\n\u001b[0;32m-> 1389\u001b[0m     \u001b[38;5;28;01mreturn\u001b[39;00m \u001b[43mfit_method\u001b[49m\u001b[43m(\u001b[49m\u001b[43mestimator\u001b[49m\u001b[43m,\u001b[49m\u001b[43m \u001b[49m\u001b[38;5;241;43m*\u001b[39;49m\u001b[43margs\u001b[49m\u001b[43m,\u001b[49m\u001b[43m \u001b[49m\u001b[38;5;241;43m*\u001b[39;49m\u001b[38;5;241;43m*\u001b[39;49m\u001b[43mkwargs\u001b[49m\u001b[43m)\u001b[49m\n",
      "File \u001b[0;32m~/Library/Caches/pypoetry/virtualenvs/alzheimer-s-disease-prediction-oDGSe6K4-py3.13/lib/python3.13/site-packages/imblearn/base.py:105\u001b[0m, in \u001b[0;36mSamplerMixin.fit_resample\u001b[0;34m(self, X, y, **params)\u001b[0m\n\u001b[1;32m     99\u001b[0m X, y, binarize_y \u001b[38;5;241m=\u001b[39m \u001b[38;5;28mself\u001b[39m\u001b[38;5;241m.\u001b[39m_check_X_y(X, y)\n\u001b[1;32m    101\u001b[0m \u001b[38;5;28mself\u001b[39m\u001b[38;5;241m.\u001b[39msampling_strategy_ \u001b[38;5;241m=\u001b[39m check_sampling_strategy(\n\u001b[1;32m    102\u001b[0m     \u001b[38;5;28mself\u001b[39m\u001b[38;5;241m.\u001b[39msampling_strategy, y, \u001b[38;5;28mself\u001b[39m\u001b[38;5;241m.\u001b[39m_sampling_type\n\u001b[1;32m    103\u001b[0m )\n\u001b[0;32m--> 105\u001b[0m output \u001b[38;5;241m=\u001b[39m \u001b[38;5;28;43mself\u001b[39;49m\u001b[38;5;241;43m.\u001b[39;49m\u001b[43m_fit_resample\u001b[49m\u001b[43m(\u001b[49m\u001b[43mX\u001b[49m\u001b[43m,\u001b[49m\u001b[43m \u001b[49m\u001b[43my\u001b[49m\u001b[43m,\u001b[49m\u001b[43m \u001b[49m\u001b[38;5;241;43m*\u001b[39;49m\u001b[38;5;241;43m*\u001b[39;49m\u001b[43mparams\u001b[49m\u001b[43m)\u001b[49m\n\u001b[1;32m    107\u001b[0m y_ \u001b[38;5;241m=\u001b[39m (\n\u001b[1;32m    108\u001b[0m     label_binarize(output[\u001b[38;5;241m1\u001b[39m], classes\u001b[38;5;241m=\u001b[39mnp\u001b[38;5;241m.\u001b[39munique(y)) \u001b[38;5;28;01mif\u001b[39;00m binarize_y \u001b[38;5;28;01melse\u001b[39;00m output[\u001b[38;5;241m1\u001b[39m]\n\u001b[1;32m    109\u001b[0m )\n\u001b[1;32m    111\u001b[0m X_, y_ \u001b[38;5;241m=\u001b[39m arrays_transformer\u001b[38;5;241m.\u001b[39mtransform(output[\u001b[38;5;241m0\u001b[39m], y_)\n",
      "File \u001b[0;32m~/Library/Caches/pypoetry/virtualenvs/alzheimer-s-disease-prediction-oDGSe6K4-py3.13/lib/python3.13/site-packages/imblearn/over_sampling/_smote/base.py:596\u001b[0m, in \u001b[0;36mSMOTENC._fit_resample\u001b[0;34m(self, X, y)\u001b[0m\n\u001b[1;32m    594\u001b[0m \u001b[38;5;28mself\u001b[39m\u001b[38;5;241m.\u001b[39mn_features_ \u001b[38;5;241m=\u001b[39m _num_features(X)\n\u001b[1;32m    595\u001b[0m \u001b[38;5;28mself\u001b[39m\u001b[38;5;241m.\u001b[39m_validate_column_types(X)\n\u001b[0;32m--> 596\u001b[0m \u001b[38;5;28;43mself\u001b[39;49m\u001b[38;5;241;43m.\u001b[39;49m\u001b[43m_validate_estimator\u001b[49m\u001b[43m(\u001b[49m\u001b[43m)\u001b[49m\n\u001b[1;32m    598\u001b[0m X_continuous \u001b[38;5;241m=\u001b[39m _safe_indexing(X, \u001b[38;5;28mself\u001b[39m\u001b[38;5;241m.\u001b[39mcontinuous_features_, axis\u001b[38;5;241m=\u001b[39m\u001b[38;5;241m1\u001b[39m)\n\u001b[1;32m    599\u001b[0m X_continuous \u001b[38;5;241m=\u001b[39m check_array(X_continuous, accept_sparse\u001b[38;5;241m=\u001b[39m[\u001b[38;5;124m\"\u001b[39m\u001b[38;5;124mcsr\u001b[39m\u001b[38;5;124m\"\u001b[39m, \u001b[38;5;124m\"\u001b[39m\u001b[38;5;124mcsc\u001b[39m\u001b[38;5;124m\"\u001b[39m])\n",
      "File \u001b[0;32m~/Library/Caches/pypoetry/virtualenvs/alzheimer-s-disease-prediction-oDGSe6K4-py3.13/lib/python3.13/site-packages/imblearn/over_sampling/_smote/base.py:588\u001b[0m, in \u001b[0;36mSMOTENC._validate_estimator\u001b[0;34m(self)\u001b[0m\n\u001b[1;32m    583\u001b[0m     \u001b[38;5;28;01mraise\u001b[39;00m \u001b[38;5;167;01mValueError\u001b[39;00m(\n\u001b[1;32m    584\u001b[0m         \u001b[38;5;124m\"\u001b[39m\u001b[38;5;124mSMOTE-NC is not designed to work only with categorical \u001b[39m\u001b[38;5;124m\"\u001b[39m\n\u001b[1;32m    585\u001b[0m         \u001b[38;5;124m\"\u001b[39m\u001b[38;5;124mfeatures. It requires some numerical features.\u001b[39m\u001b[38;5;124m\"\u001b[39m\n\u001b[1;32m    586\u001b[0m     )\n\u001b[1;32m    587\u001b[0m \u001b[38;5;28;01melif\u001b[39;00m \u001b[38;5;28mself\u001b[39m\u001b[38;5;241m.\u001b[39mcategorical_features_\u001b[38;5;241m.\u001b[39msize \u001b[38;5;241m==\u001b[39m \u001b[38;5;241m0\u001b[39m:\n\u001b[0;32m--> 588\u001b[0m     \u001b[38;5;28;01mraise\u001b[39;00m \u001b[38;5;167;01mValueError\u001b[39;00m(\n\u001b[1;32m    589\u001b[0m         \u001b[38;5;124m\"\u001b[39m\u001b[38;5;124mSMOTE-NC is not designed to work only with numerical \u001b[39m\u001b[38;5;124m\"\u001b[39m\n\u001b[1;32m    590\u001b[0m         \u001b[38;5;124m\"\u001b[39m\u001b[38;5;124mfeatures. It requires some categorical features.\u001b[39m\u001b[38;5;124m\"\u001b[39m\n\u001b[1;32m    591\u001b[0m     )\n",
      "\u001b[0;31mValueError\u001b[0m: SMOTE-NC is not designed to work only with numerical features. It requires some categorical features."
     ]
    }
   ],
   "source": [
    "# Wyświetlenie proporcji klas przed balansowaniem\n",
    "print(\"Proporcje klas przed balansowaniem:\")\n",
    "print(Counter(Y_train))\n",
    "\n",
    "categorical_features = [index for index, dtype in enumerate(X_train.dtypes) if dtype == \"object\"]\n",
    "\n",
    "smote_nc = SMOTENC(categorical_features=categorical_features, random_state=42)\n",
    "\n",
    "# Balansowanie\n",
    "X_balanced, Y_balanced = smote_nc.fit_resample(X_train, Y_train)\n",
    "\n",
    "# Wyświetlenie proporcji klas po balansowaniu\n",
    "print(\"Proporcje klas po balansowaniu:\")\n",
    "print(Counter(Y_balanced))\n",
    "\n",
    "# Finalne dane gotowe do treningu\n",
    "X_final, Y_final = X_balanced, Y_balanced"
   ]
  },
  {
   "cell_type": "code",
   "execution_count": 186,
   "metadata": {},
   "outputs": [
    {
     "name": "stderr",
     "output_type": "stream",
     "text": [
      "/Users/franek/Library/Caches/pypoetry/virtualenvs/alzheimer-s-disease-prediction-oDGSe6K4-py3.13/lib/python3.13/site-packages/interpret/glassbox/_ebm/_ebm.py:813: UserWarning:\n",
      "\n",
      "Missing values detected. Our visualizations do not currently display missing values. To retain the glassbox nature of the model you need to either set the missing values to an extreme value like -1000 that will be visible on the graphs, or manually examine the missing value score in ebm.term_scores_[term_index][0]\n",
      "\n"
     ]
    },
    {
     "name": "stdout",
     "output_type": "stream",
     "text": [
      "Liczba próbek w Y_test: 430\n",
      "Liczba próbek w Y_pred: 430\n",
      "EBM - Classification Report:\n",
      "              precision    recall  f1-score   support\n",
      "\n",
      "           0       0.96      0.95      0.95       278\n",
      "           1       0.90      0.93      0.92       152\n",
      "\n",
      "    accuracy                           0.94       430\n",
      "   macro avg       0.93      0.94      0.93       430\n",
      "weighted avg       0.94      0.94      0.94       430\n",
      "\n",
      "EBM - AUC ROC: 0.9408\n"
     ]
    }
   ],
   "source": [
    "# Dopasowanie modelu Explainable Boosting Classifier\n",
    "ebm_model = ExplainableBoostingClassifier(random_state=42)\n",
    "ebm_model.fit(X_final, Y_final)\n",
    "\n",
    "# Generowanie predykcji i prawdopodobieństw na zbiorze testowym\n",
    "Y_pred = ebm_model.predict(X_test)\n",
    "Y_pred_proba = ebm_model.predict_proba(X_test)[:, 1]\n",
    "\n",
    "print(f\"Liczba próbek w Y_test: {len(Y_test)}\")\n",
    "print(f\"Liczba próbek w Y_pred: {len(Y_pred)}\")\n",
    "\n",
    "# Ocena modelu\n",
    "print(\"EBM - Classification Report:\")\n",
    "print(classification_report(Y_test, Y_pred))\n",
    "print(f\"EBM - AUC ROC: {roc_auc_score(Y_test, Y_pred_proba):.4f}\")"
   ]
  },
  {
   "cell_type": "code",
   "execution_count": 172,
   "metadata": {},
   "outputs": [
    {
     "data": {
      "text/html": [
       "<!-- http://127.0.0.1:7001/5303281104/ -->\n",
       "<iframe src=\"http://127.0.0.1:7001/5303281104/\" width=100% height=800 frameBorder=\"0\"></iframe>"
      ]
     },
     "metadata": {},
     "output_type": "display_data"
    }
   ],
   "source": [
    "# ebm_local = ebm_model.explain_local(X_test[:5], Y_test[:5])\n",
    "# show(ebm_local)\n",
    "\n",
    "ebm_global = ebm_model.explain_global()\n",
    "show(ebm_global)\n"
   ]
  }
 ],
 "metadata": {
  "kernelspec": {
   "display_name": "alzheimer-s-disease-prediction-oDGSe6K4-py3.13",
   "language": "python",
   "name": "python3"
  },
  "language_info": {
   "codemirror_mode": {
    "name": "ipython",
    "version": 3
   },
   "file_extension": ".py",
   "mimetype": "text/x-python",
   "name": "python",
   "nbconvert_exporter": "python",
   "pygments_lexer": "ipython3",
   "version": "3.13.1"
  }
 },
 "nbformat": 4,
 "nbformat_minor": 2
}
